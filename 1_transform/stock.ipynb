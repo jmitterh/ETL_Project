{
 "cells": [
  {
   "cell_type": "markdown",
   "metadata": {},
   "source": [
    "# API from yfianance Stock Market\n",
    "* stocks from 1970 through 2018\n",
    "* The S&P 500 (^GSPC), or just the S&P, is a stock market index that measures the stock performance of 500 large companies listed on stock exchanges in the United States.\n",
    "* Remove incomplete rows\n",
    "* Deal with error-prone columns\n",
    "* Drop un-needed columns\n",
    "* Change casing\n",
    "* save to csv"
   ]
  },
  {
   "cell_type": "code",
   "execution_count": 1,
   "metadata": {},
   "outputs": [],
   "source": [
    "from pandas_datareader import data as pdr\n",
    "import pandas as pd\n",
    "import yfinance as yf"
   ]
  },
  {
   "cell_type": "markdown",
   "metadata": {},
   "source": [
    "#### Pulling S&P 500 stock market index"
   ]
  },
  {
   "cell_type": "code",
   "execution_count": 2,
   "metadata": {},
   "outputs": [
    {
     "name": "stdout",
     "output_type": "stream",
     "text": [
      "[*********************100%***********************]  1 of 1 completed\n"
     ]
    }
   ],
   "source": [
    "yf.pdr_override() # <== that's all it takes :-)\n",
    "\n",
    "# download dataframe\n",
    "df = pdr.get_data_yahoo(\"^GSPC\", start=\"1970-01-01\", end=\"2019-01-01\")"
   ]
  },
  {
   "cell_type": "markdown",
   "metadata": {},
   "source": [
    "#### length of dataset"
   ]
  },
  {
   "cell_type": "code",
   "execution_count": 3,
   "metadata": {},
   "outputs": [
    {
     "data": {
      "text/plain": [
       "Open         12361\n",
       "High         12361\n",
       "Low          12361\n",
       "Close        12361\n",
       "Adj Close    12361\n",
       "Volume       12361\n",
       "dtype: int64"
      ]
     },
     "execution_count": 3,
     "metadata": {},
     "output_type": "execute_result"
    }
   ],
   "source": [
    "df.count()"
   ]
  },
  {
   "cell_type": "markdown",
   "metadata": {},
   "source": [
    "#### Dropping any rows that are missing "
   ]
  },
  {
   "cell_type": "code",
   "execution_count": 4,
   "metadata": {},
   "outputs": [
    {
     "data": {
      "text/plain": [
       "Open         12361\n",
       "High         12361\n",
       "Low          12361\n",
       "Close        12361\n",
       "Adj Close    12361\n",
       "Volume       12361\n",
       "dtype: int64"
      ]
     },
     "execution_count": 4,
     "metadata": {},
     "output_type": "execute_result"
    }
   ],
   "source": [
    "df = df.dropna()\n",
    "df.count()"
   ]
  },
  {
   "cell_type": "markdown",
   "metadata": {},
   "source": [
    "#### Looking at columns"
   ]
  },
  {
   "cell_type": "code",
   "execution_count": 5,
   "metadata": {},
   "outputs": [
    {
     "data": {
      "text/plain": [
       "Index(['Open', 'High', 'Low', 'Close', 'Adj Close', 'Volume'], dtype='object')"
      ]
     },
     "execution_count": 5,
     "metadata": {},
     "output_type": "execute_result"
    }
   ],
   "source": [
    "df.columns"
   ]
  },
  {
   "cell_type": "markdown",
   "metadata": {},
   "source": [
    "#### Reseting the Index"
   ]
  },
  {
   "cell_type": "code",
   "execution_count": 6,
   "metadata": {},
   "outputs": [
    {
     "data": {
      "text/html": [
       "<div>\n",
       "<style scoped>\n",
       "    .dataframe tbody tr th:only-of-type {\n",
       "        vertical-align: middle;\n",
       "    }\n",
       "\n",
       "    .dataframe tbody tr th {\n",
       "        vertical-align: top;\n",
       "    }\n",
       "\n",
       "    .dataframe thead th {\n",
       "        text-align: right;\n",
       "    }\n",
       "</style>\n",
       "<table border=\"1\" class=\"dataframe\">\n",
       "  <thead>\n",
       "    <tr style=\"text-align: right;\">\n",
       "      <th></th>\n",
       "      <th>Date</th>\n",
       "      <th>Open</th>\n",
       "      <th>High</th>\n",
       "      <th>Low</th>\n",
       "      <th>Close</th>\n",
       "      <th>Adj Close</th>\n",
       "      <th>Volume</th>\n",
       "    </tr>\n",
       "  </thead>\n",
       "  <tbody>\n",
       "    <tr>\n",
       "      <th>0</th>\n",
       "      <td>1970-01-02</td>\n",
       "      <td>92.059998</td>\n",
       "      <td>93.540001</td>\n",
       "      <td>91.790001</td>\n",
       "      <td>93.000000</td>\n",
       "      <td>93.000000</td>\n",
       "      <td>8050000</td>\n",
       "    </tr>\n",
       "    <tr>\n",
       "      <th>1</th>\n",
       "      <td>1970-01-05</td>\n",
       "      <td>93.000000</td>\n",
       "      <td>94.250000</td>\n",
       "      <td>92.529999</td>\n",
       "      <td>93.459999</td>\n",
       "      <td>93.459999</td>\n",
       "      <td>11490000</td>\n",
       "    </tr>\n",
       "    <tr>\n",
       "      <th>2</th>\n",
       "      <td>1970-01-06</td>\n",
       "      <td>93.459999</td>\n",
       "      <td>93.809998</td>\n",
       "      <td>92.129997</td>\n",
       "      <td>92.820000</td>\n",
       "      <td>92.820000</td>\n",
       "      <td>11460000</td>\n",
       "    </tr>\n",
       "    <tr>\n",
       "      <th>3</th>\n",
       "      <td>1970-01-07</td>\n",
       "      <td>92.820000</td>\n",
       "      <td>93.379997</td>\n",
       "      <td>91.930000</td>\n",
       "      <td>92.629997</td>\n",
       "      <td>92.629997</td>\n",
       "      <td>10010000</td>\n",
       "    </tr>\n",
       "    <tr>\n",
       "      <th>4</th>\n",
       "      <td>1970-01-08</td>\n",
       "      <td>92.629997</td>\n",
       "      <td>93.470001</td>\n",
       "      <td>91.989998</td>\n",
       "      <td>92.680000</td>\n",
       "      <td>92.680000</td>\n",
       "      <td>10670000</td>\n",
       "    </tr>\n",
       "  </tbody>\n",
       "</table>\n",
       "</div>"
      ],
      "text/plain": [
       "        Date       Open       High        Low      Close  Adj Close    Volume\n",
       "0 1970-01-02  92.059998  93.540001  91.790001  93.000000  93.000000   8050000\n",
       "1 1970-01-05  93.000000  94.250000  92.529999  93.459999  93.459999  11490000\n",
       "2 1970-01-06  93.459999  93.809998  92.129997  92.820000  92.820000  11460000\n",
       "3 1970-01-07  92.820000  93.379997  91.930000  92.629997  92.629997  10010000\n",
       "4 1970-01-08  92.629997  93.470001  91.989998  92.680000  92.680000  10670000"
      ]
     },
     "execution_count": 6,
     "metadata": {},
     "output_type": "execute_result"
    }
   ],
   "source": [
    "df = df.reset_index()\n",
    "df.head()"
   ]
  },
  {
   "cell_type": "markdown",
   "metadata": {},
   "source": [
    "#### Checking data types"
   ]
  },
  {
   "cell_type": "code",
   "execution_count": 7,
   "metadata": {},
   "outputs": [
    {
     "data": {
      "text/plain": [
       "Date         datetime64[ns]\n",
       "Open                float64\n",
       "High                float64\n",
       "Low                 float64\n",
       "Close               float64\n",
       "Adj Close           float64\n",
       "Volume                int64\n",
       "dtype: object"
      ]
     },
     "execution_count": 7,
     "metadata": {},
     "output_type": "execute_result"
    }
   ],
   "source": [
    "df.dtypes"
   ]
  },
  {
   "cell_type": "markdown",
   "metadata": {},
   "source": [
    "#### Using .dt to extract year only"
   ]
  },
  {
   "cell_type": "code",
   "execution_count": 8,
   "metadata": {},
   "outputs": [
    {
     "data": {
      "text/html": [
       "<div>\n",
       "<style scoped>\n",
       "    .dataframe tbody tr th:only-of-type {\n",
       "        vertical-align: middle;\n",
       "    }\n",
       "\n",
       "    .dataframe tbody tr th {\n",
       "        vertical-align: top;\n",
       "    }\n",
       "\n",
       "    .dataframe thead th {\n",
       "        text-align: right;\n",
       "    }\n",
       "</style>\n",
       "<table border=\"1\" class=\"dataframe\">\n",
       "  <thead>\n",
       "    <tr style=\"text-align: right;\">\n",
       "      <th></th>\n",
       "      <th>Date</th>\n",
       "      <th>Open</th>\n",
       "      <th>High</th>\n",
       "      <th>Low</th>\n",
       "      <th>Close</th>\n",
       "      <th>Adj Close</th>\n",
       "      <th>Volume</th>\n",
       "    </tr>\n",
       "  </thead>\n",
       "  <tbody>\n",
       "    <tr>\n",
       "      <th>0</th>\n",
       "      <td>1970</td>\n",
       "      <td>92.059998</td>\n",
       "      <td>93.540001</td>\n",
       "      <td>91.790001</td>\n",
       "      <td>93.000000</td>\n",
       "      <td>93.000000</td>\n",
       "      <td>8050000</td>\n",
       "    </tr>\n",
       "    <tr>\n",
       "      <th>1</th>\n",
       "      <td>1970</td>\n",
       "      <td>93.000000</td>\n",
       "      <td>94.250000</td>\n",
       "      <td>92.529999</td>\n",
       "      <td>93.459999</td>\n",
       "      <td>93.459999</td>\n",
       "      <td>11490000</td>\n",
       "    </tr>\n",
       "    <tr>\n",
       "      <th>2</th>\n",
       "      <td>1970</td>\n",
       "      <td>93.459999</td>\n",
       "      <td>93.809998</td>\n",
       "      <td>92.129997</td>\n",
       "      <td>92.820000</td>\n",
       "      <td>92.820000</td>\n",
       "      <td>11460000</td>\n",
       "    </tr>\n",
       "    <tr>\n",
       "      <th>3</th>\n",
       "      <td>1970</td>\n",
       "      <td>92.820000</td>\n",
       "      <td>93.379997</td>\n",
       "      <td>91.930000</td>\n",
       "      <td>92.629997</td>\n",
       "      <td>92.629997</td>\n",
       "      <td>10010000</td>\n",
       "    </tr>\n",
       "    <tr>\n",
       "      <th>4</th>\n",
       "      <td>1970</td>\n",
       "      <td>92.629997</td>\n",
       "      <td>93.470001</td>\n",
       "      <td>91.989998</td>\n",
       "      <td>92.680000</td>\n",
       "      <td>92.680000</td>\n",
       "      <td>10670000</td>\n",
       "    </tr>\n",
       "  </tbody>\n",
       "</table>\n",
       "</div>"
      ],
      "text/plain": [
       "   Date       Open       High        Low      Close  Adj Close    Volume\n",
       "0  1970  92.059998  93.540001  91.790001  93.000000  93.000000   8050000\n",
       "1  1970  93.000000  94.250000  92.529999  93.459999  93.459999  11490000\n",
       "2  1970  93.459999  93.809998  92.129997  92.820000  92.820000  11460000\n",
       "3  1970  92.820000  93.379997  91.930000  92.629997  92.629997  10010000\n",
       "4  1970  92.629997  93.470001  91.989998  92.680000  92.680000  10670000"
      ]
     },
     "execution_count": 8,
     "metadata": {},
     "output_type": "execute_result"
    }
   ],
   "source": [
    "df['Date'] = df['Date'].dt.year\n",
    "df.head()"
   ]
  },
  {
   "cell_type": "markdown",
   "metadata": {},
   "source": [
    "#### Group by date and get the mean average"
   ]
  },
  {
   "cell_type": "code",
   "execution_count": 9,
   "metadata": {},
   "outputs": [
    {
     "data": {
      "text/html": [
       "<div>\n",
       "<style scoped>\n",
       "    .dataframe tbody tr th:only-of-type {\n",
       "        vertical-align: middle;\n",
       "    }\n",
       "\n",
       "    .dataframe tbody tr th {\n",
       "        vertical-align: top;\n",
       "    }\n",
       "\n",
       "    .dataframe thead th {\n",
       "        text-align: right;\n",
       "    }\n",
       "</style>\n",
       "<table border=\"1\" class=\"dataframe\">\n",
       "  <thead>\n",
       "    <tr style=\"text-align: right;\">\n",
       "      <th></th>\n",
       "      <th>Date</th>\n",
       "      <th>Open</th>\n",
       "      <th>High</th>\n",
       "      <th>Low</th>\n",
       "      <th>Close</th>\n",
       "      <th>Adj Close</th>\n",
       "      <th>Volume</th>\n",
       "    </tr>\n",
       "    <tr>\n",
       "      <th>Date</th>\n",
       "      <th></th>\n",
       "      <th></th>\n",
       "      <th></th>\n",
       "      <th></th>\n",
       "      <th></th>\n",
       "      <th></th>\n",
       "      <th></th>\n",
       "    </tr>\n",
       "  </thead>\n",
       "  <tbody>\n",
       "    <tr>\n",
       "      <th>1970</th>\n",
       "      <td>1970.0</td>\n",
       "      <td>83.152047</td>\n",
       "      <td>84.011457</td>\n",
       "      <td>82.292126</td>\n",
       "      <td>83.154134</td>\n",
       "      <td>83.154134</td>\n",
       "      <td>1.160130e+07</td>\n",
       "    </tr>\n",
       "    <tr>\n",
       "      <th>1971</th>\n",
       "      <td>1971.0</td>\n",
       "      <td>98.306877</td>\n",
       "      <td>99.071897</td>\n",
       "      <td>97.565138</td>\n",
       "      <td>98.315020</td>\n",
       "      <td>98.315020</td>\n",
       "      <td>1.539423e+07</td>\n",
       "    </tr>\n",
       "    <tr>\n",
       "      <th>1972</th>\n",
       "      <td>1972.0</td>\n",
       "      <td>109.071036</td>\n",
       "      <td>109.952789</td>\n",
       "      <td>108.279960</td>\n",
       "      <td>109.134821</td>\n",
       "      <td>109.134821</td>\n",
       "      <td>1.648355e+07</td>\n",
       "    </tr>\n",
       "    <tr>\n",
       "      <th>1973</th>\n",
       "      <td>1973.0</td>\n",
       "      <td>107.514167</td>\n",
       "      <td>108.554087</td>\n",
       "      <td>106.354048</td>\n",
       "      <td>107.438413</td>\n",
       "      <td>107.438413</td>\n",
       "      <td>1.610230e+07</td>\n",
       "    </tr>\n",
       "    <tr>\n",
       "      <th>1974</th>\n",
       "      <td>1974.0</td>\n",
       "      <td>82.886324</td>\n",
       "      <td>83.879367</td>\n",
       "      <td>81.795534</td>\n",
       "      <td>82.780909</td>\n",
       "      <td>82.780909</td>\n",
       "      <td>1.390356e+07</td>\n",
       "    </tr>\n",
       "  </tbody>\n",
       "</table>\n",
       "</div>"
      ],
      "text/plain": [
       "        Date        Open        High         Low       Close   Adj Close  \\\n",
       "Date                                                                       \n",
       "1970  1970.0   83.152047   84.011457   82.292126   83.154134   83.154134   \n",
       "1971  1971.0   98.306877   99.071897   97.565138   98.315020   98.315020   \n",
       "1972  1972.0  109.071036  109.952789  108.279960  109.134821  109.134821   \n",
       "1973  1973.0  107.514167  108.554087  106.354048  107.438413  107.438413   \n",
       "1974  1974.0   82.886324   83.879367   81.795534   82.780909   82.780909   \n",
       "\n",
       "            Volume  \n",
       "Date                \n",
       "1970  1.160130e+07  \n",
       "1971  1.539423e+07  \n",
       "1972  1.648355e+07  \n",
       "1973  1.610230e+07  \n",
       "1974  1.390356e+07  "
      ]
     },
     "execution_count": 9,
     "metadata": {},
     "output_type": "execute_result"
    }
   ],
   "source": [
    "group_df = df.groupby(df['Date'])\n",
    "group_df = group_df.mean()\n",
    "group_df.head()"
   ]
  },
  {
   "cell_type": "markdown",
   "metadata": {},
   "source": [
    "#### Checking data types"
   ]
  },
  {
   "cell_type": "code",
   "execution_count": 10,
   "metadata": {},
   "outputs": [
    {
     "data": {
      "text/plain": [
       "Date         49\n",
       "Open         49\n",
       "High         49\n",
       "Low          49\n",
       "Close        49\n",
       "Adj Close    49\n",
       "Volume       49\n",
       "dtype: int64"
      ]
     },
     "execution_count": 10,
     "metadata": {},
     "output_type": "execute_result"
    }
   ],
   "source": [
    "group_df.count()"
   ]
  },
  {
   "cell_type": "markdown",
   "metadata": {},
   "source": [
    "#### Drop unwanted column"
   ]
  },
  {
   "cell_type": "code",
   "execution_count": 11,
   "metadata": {},
   "outputs": [
    {
     "data": {
      "text/html": [
       "<div>\n",
       "<style scoped>\n",
       "    .dataframe tbody tr th:only-of-type {\n",
       "        vertical-align: middle;\n",
       "    }\n",
       "\n",
       "    .dataframe tbody tr th {\n",
       "        vertical-align: top;\n",
       "    }\n",
       "\n",
       "    .dataframe thead th {\n",
       "        text-align: right;\n",
       "    }\n",
       "</style>\n",
       "<table border=\"1\" class=\"dataframe\">\n",
       "  <thead>\n",
       "    <tr style=\"text-align: right;\">\n",
       "      <th></th>\n",
       "      <th>Open</th>\n",
       "      <th>High</th>\n",
       "      <th>Low</th>\n",
       "      <th>Close</th>\n",
       "      <th>Adj Close</th>\n",
       "      <th>Volume</th>\n",
       "    </tr>\n",
       "    <tr>\n",
       "      <th>Date</th>\n",
       "      <th></th>\n",
       "      <th></th>\n",
       "      <th></th>\n",
       "      <th></th>\n",
       "      <th></th>\n",
       "      <th></th>\n",
       "    </tr>\n",
       "  </thead>\n",
       "  <tbody>\n",
       "    <tr>\n",
       "      <th>1970</th>\n",
       "      <td>83.152047</td>\n",
       "      <td>84.011457</td>\n",
       "      <td>82.292126</td>\n",
       "      <td>83.154134</td>\n",
       "      <td>83.154134</td>\n",
       "      <td>1.160130e+07</td>\n",
       "    </tr>\n",
       "    <tr>\n",
       "      <th>1971</th>\n",
       "      <td>98.306877</td>\n",
       "      <td>99.071897</td>\n",
       "      <td>97.565138</td>\n",
       "      <td>98.315020</td>\n",
       "      <td>98.315020</td>\n",
       "      <td>1.539423e+07</td>\n",
       "    </tr>\n",
       "    <tr>\n",
       "      <th>1972</th>\n",
       "      <td>109.071036</td>\n",
       "      <td>109.952789</td>\n",
       "      <td>108.279960</td>\n",
       "      <td>109.134821</td>\n",
       "      <td>109.134821</td>\n",
       "      <td>1.648355e+07</td>\n",
       "    </tr>\n",
       "    <tr>\n",
       "      <th>1973</th>\n",
       "      <td>107.514167</td>\n",
       "      <td>108.554087</td>\n",
       "      <td>106.354048</td>\n",
       "      <td>107.438413</td>\n",
       "      <td>107.438413</td>\n",
       "      <td>1.610230e+07</td>\n",
       "    </tr>\n",
       "    <tr>\n",
       "      <th>1974</th>\n",
       "      <td>82.886324</td>\n",
       "      <td>83.879367</td>\n",
       "      <td>81.795534</td>\n",
       "      <td>82.780909</td>\n",
       "      <td>82.780909</td>\n",
       "      <td>1.390356e+07</td>\n",
       "    </tr>\n",
       "  </tbody>\n",
       "</table>\n",
       "</div>"
      ],
      "text/plain": [
       "            Open        High         Low       Close   Adj Close        Volume\n",
       "Date                                                                          \n",
       "1970   83.152047   84.011457   82.292126   83.154134   83.154134  1.160130e+07\n",
       "1971   98.306877   99.071897   97.565138   98.315020   98.315020  1.539423e+07\n",
       "1972  109.071036  109.952789  108.279960  109.134821  109.134821  1.648355e+07\n",
       "1973  107.514167  108.554087  106.354048  107.438413  107.438413  1.610230e+07\n",
       "1974   82.886324   83.879367   81.795534   82.780909   82.780909  1.390356e+07"
      ]
     },
     "execution_count": 11,
     "metadata": {},
     "output_type": "execute_result"
    }
   ],
   "source": [
    "group_df = group_df.drop(columns=['Date'])\n",
    "group_df.head()"
   ]
  },
  {
   "cell_type": "markdown",
   "metadata": {},
   "source": [
    "#### Remove index"
   ]
  },
  {
   "cell_type": "code",
   "execution_count": 12,
   "metadata": {},
   "outputs": [
    {
     "data": {
      "text/html": [
       "<div>\n",
       "<style scoped>\n",
       "    .dataframe tbody tr th:only-of-type {\n",
       "        vertical-align: middle;\n",
       "    }\n",
       "\n",
       "    .dataframe tbody tr th {\n",
       "        vertical-align: top;\n",
       "    }\n",
       "\n",
       "    .dataframe thead th {\n",
       "        text-align: right;\n",
       "    }\n",
       "</style>\n",
       "<table border=\"1\" class=\"dataframe\">\n",
       "  <thead>\n",
       "    <tr style=\"text-align: right;\">\n",
       "      <th></th>\n",
       "      <th>Date</th>\n",
       "      <th>Open</th>\n",
       "      <th>High</th>\n",
       "      <th>Low</th>\n",
       "      <th>Close</th>\n",
       "      <th>Adj Close</th>\n",
       "      <th>Volume</th>\n",
       "    </tr>\n",
       "  </thead>\n",
       "  <tbody>\n",
       "    <tr>\n",
       "      <th>0</th>\n",
       "      <td>1970</td>\n",
       "      <td>83.152047</td>\n",
       "      <td>84.011457</td>\n",
       "      <td>82.292126</td>\n",
       "      <td>83.154134</td>\n",
       "      <td>83.154134</td>\n",
       "      <td>1.160130e+07</td>\n",
       "    </tr>\n",
       "    <tr>\n",
       "      <th>1</th>\n",
       "      <td>1971</td>\n",
       "      <td>98.306877</td>\n",
       "      <td>99.071897</td>\n",
       "      <td>97.565138</td>\n",
       "      <td>98.315020</td>\n",
       "      <td>98.315020</td>\n",
       "      <td>1.539423e+07</td>\n",
       "    </tr>\n",
       "    <tr>\n",
       "      <th>2</th>\n",
       "      <td>1972</td>\n",
       "      <td>109.071036</td>\n",
       "      <td>109.952789</td>\n",
       "      <td>108.279960</td>\n",
       "      <td>109.134821</td>\n",
       "      <td>109.134821</td>\n",
       "      <td>1.648355e+07</td>\n",
       "    </tr>\n",
       "    <tr>\n",
       "      <th>3</th>\n",
       "      <td>1973</td>\n",
       "      <td>107.514167</td>\n",
       "      <td>108.554087</td>\n",
       "      <td>106.354048</td>\n",
       "      <td>107.438413</td>\n",
       "      <td>107.438413</td>\n",
       "      <td>1.610230e+07</td>\n",
       "    </tr>\n",
       "    <tr>\n",
       "      <th>4</th>\n",
       "      <td>1974</td>\n",
       "      <td>82.886324</td>\n",
       "      <td>83.879367</td>\n",
       "      <td>81.795534</td>\n",
       "      <td>82.780909</td>\n",
       "      <td>82.780909</td>\n",
       "      <td>1.390356e+07</td>\n",
       "    </tr>\n",
       "  </tbody>\n",
       "</table>\n",
       "</div>"
      ],
      "text/plain": [
       "   Date        Open        High         Low       Close   Adj Close  \\\n",
       "0  1970   83.152047   84.011457   82.292126   83.154134   83.154134   \n",
       "1  1971   98.306877   99.071897   97.565138   98.315020   98.315020   \n",
       "2  1972  109.071036  109.952789  108.279960  109.134821  109.134821   \n",
       "3  1973  107.514167  108.554087  106.354048  107.438413  107.438413   \n",
       "4  1974   82.886324   83.879367   81.795534   82.780909   82.780909   \n",
       "\n",
       "         Volume  \n",
       "0  1.160130e+07  \n",
       "1  1.539423e+07  \n",
       "2  1.648355e+07  \n",
       "3  1.610230e+07  \n",
       "4  1.390356e+07  "
      ]
     },
     "execution_count": 12,
     "metadata": {},
     "output_type": "execute_result"
    }
   ],
   "source": [
    "group_df.reset_index(level=['Date'], inplace=True)\n",
    "group_df.head()"
   ]
  },
  {
   "cell_type": "markdown",
   "metadata": {},
   "source": [
    "#### lowercase/rename columns"
   ]
  },
  {
   "cell_type": "code",
   "execution_count": 13,
   "metadata": {},
   "outputs": [
    {
     "data": {
      "text/html": [
       "<div>\n",
       "<style scoped>\n",
       "    .dataframe tbody tr th:only-of-type {\n",
       "        vertical-align: middle;\n",
       "    }\n",
       "\n",
       "    .dataframe tbody tr th {\n",
       "        vertical-align: top;\n",
       "    }\n",
       "\n",
       "    .dataframe thead th {\n",
       "        text-align: right;\n",
       "    }\n",
       "</style>\n",
       "<table border=\"1\" class=\"dataframe\">\n",
       "  <thead>\n",
       "    <tr style=\"text-align: right;\">\n",
       "      <th></th>\n",
       "      <th>year</th>\n",
       "      <th>open</th>\n",
       "      <th>high</th>\n",
       "      <th>low</th>\n",
       "      <th>close</th>\n",
       "      <th>adj_close</th>\n",
       "      <th>volume</th>\n",
       "    </tr>\n",
       "  </thead>\n",
       "  <tbody>\n",
       "    <tr>\n",
       "      <th>0</th>\n",
       "      <td>1970</td>\n",
       "      <td>83.152047</td>\n",
       "      <td>84.011457</td>\n",
       "      <td>82.292126</td>\n",
       "      <td>83.154134</td>\n",
       "      <td>83.154134</td>\n",
       "      <td>1.160130e+07</td>\n",
       "    </tr>\n",
       "    <tr>\n",
       "      <th>1</th>\n",
       "      <td>1971</td>\n",
       "      <td>98.306877</td>\n",
       "      <td>99.071897</td>\n",
       "      <td>97.565138</td>\n",
       "      <td>98.315020</td>\n",
       "      <td>98.315020</td>\n",
       "      <td>1.539423e+07</td>\n",
       "    </tr>\n",
       "    <tr>\n",
       "      <th>2</th>\n",
       "      <td>1972</td>\n",
       "      <td>109.071036</td>\n",
       "      <td>109.952789</td>\n",
       "      <td>108.279960</td>\n",
       "      <td>109.134821</td>\n",
       "      <td>109.134821</td>\n",
       "      <td>1.648355e+07</td>\n",
       "    </tr>\n",
       "    <tr>\n",
       "      <th>3</th>\n",
       "      <td>1973</td>\n",
       "      <td>107.514167</td>\n",
       "      <td>108.554087</td>\n",
       "      <td>106.354048</td>\n",
       "      <td>107.438413</td>\n",
       "      <td>107.438413</td>\n",
       "      <td>1.610230e+07</td>\n",
       "    </tr>\n",
       "    <tr>\n",
       "      <th>4</th>\n",
       "      <td>1974</td>\n",
       "      <td>82.886324</td>\n",
       "      <td>83.879367</td>\n",
       "      <td>81.795534</td>\n",
       "      <td>82.780909</td>\n",
       "      <td>82.780909</td>\n",
       "      <td>1.390356e+07</td>\n",
       "    </tr>\n",
       "  </tbody>\n",
       "</table>\n",
       "</div>"
      ],
      "text/plain": [
       "   year        open        high         low       close   adj_close  \\\n",
       "0  1970   83.152047   84.011457   82.292126   83.154134   83.154134   \n",
       "1  1971   98.306877   99.071897   97.565138   98.315020   98.315020   \n",
       "2  1972  109.071036  109.952789  108.279960  109.134821  109.134821   \n",
       "3  1973  107.514167  108.554087  106.354048  107.438413  107.438413   \n",
       "4  1974   82.886324   83.879367   81.795534   82.780909   82.780909   \n",
       "\n",
       "         volume  \n",
       "0  1.160130e+07  \n",
       "1  1.539423e+07  \n",
       "2  1.648355e+07  \n",
       "3  1.610230e+07  \n",
       "4  1.390356e+07  "
      ]
     },
     "execution_count": 13,
     "metadata": {},
     "output_type": "execute_result"
    }
   ],
   "source": [
    "group_df = group_df.rename(columns={'Date': 'year','Open':'open','High':'high','Low':'low','Close':'close','Adj Close':'adj_close','Volume':'volume'})\n",
    "group_df.head()"
   ]
  },
  {
   "cell_type": "markdown",
   "metadata": {},
   "source": [
    "#### Create new df that only has year"
   ]
  },
  {
   "cell_type": "code",
   "execution_count": 14,
   "metadata": {},
   "outputs": [
    {
     "data": {
      "text/html": [
       "<div>\n",
       "<style scoped>\n",
       "    .dataframe tbody tr th:only-of-type {\n",
       "        vertical-align: middle;\n",
       "    }\n",
       "\n",
       "    .dataframe tbody tr th {\n",
       "        vertical-align: top;\n",
       "    }\n",
       "\n",
       "    .dataframe thead th {\n",
       "        text-align: right;\n",
       "    }\n",
       "</style>\n",
       "<table border=\"1\" class=\"dataframe\">\n",
       "  <thead>\n",
       "    <tr style=\"text-align: right;\">\n",
       "      <th></th>\n",
       "      <th>year</th>\n",
       "    </tr>\n",
       "  </thead>\n",
       "  <tbody>\n",
       "    <tr>\n",
       "      <th>0</th>\n",
       "      <td>1970</td>\n",
       "    </tr>\n",
       "    <tr>\n",
       "      <th>1</th>\n",
       "      <td>1971</td>\n",
       "    </tr>\n",
       "    <tr>\n",
       "      <th>2</th>\n",
       "      <td>1972</td>\n",
       "    </tr>\n",
       "    <tr>\n",
       "      <th>3</th>\n",
       "      <td>1973</td>\n",
       "    </tr>\n",
       "    <tr>\n",
       "      <th>4</th>\n",
       "      <td>1974</td>\n",
       "    </tr>\n",
       "  </tbody>\n",
       "</table>\n",
       "</div>"
      ],
      "text/plain": [
       "   year\n",
       "0  1970\n",
       "1  1971\n",
       "2  1972\n",
       "3  1973\n",
       "4  1974"
      ]
     },
     "execution_count": 14,
     "metadata": {},
     "output_type": "execute_result"
    }
   ],
   "source": [
    "year_df = group_df['year']\n",
    "year_df.head()\n",
    "year_df = pd.DataFrame(year_df)\n",
    "year_df.head()"
   ]
  },
  {
   "cell_type": "markdown",
   "metadata": {},
   "source": [
    "#### Exporting to a csv file"
   ]
  },
  {
   "cell_type": "code",
   "execution_count": 15,
   "metadata": {},
   "outputs": [],
   "source": [
    "year_df.to_csv('../data_transformed/year.csv')\n",
    "group_df.to_csv('../data_transformed/stock.csv')"
   ]
  },
  {
   "cell_type": "code",
   "execution_count": null,
   "metadata": {},
   "outputs": [],
   "source": []
  }
 ],
 "metadata": {
  "kernelspec": {
   "display_name": "Python 3",
   "language": "python",
   "name": "python3"
  },
  "language_info": {
   "codemirror_mode": {
    "name": "ipython",
    "version": 3
   },
   "file_extension": ".py",
   "mimetype": "text/x-python",
   "name": "python",
   "nbconvert_exporter": "python",
   "pygments_lexer": "ipython3",
   "version": "3.7.3"
  }
 },
 "nbformat": 4,
 "nbformat_minor": 4
}
