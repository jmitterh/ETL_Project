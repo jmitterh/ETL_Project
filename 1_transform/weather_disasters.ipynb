{
 "cells": [
  {
   "cell_type": "markdown",
   "metadata": {},
   "source": [
    "# Weather Disaster\n",
    "* Deal with error-prone columns\n",
    "* Drop un-needed columns\n",
    "* Change casing\n",
    "* save to csv"
   ]
  },
  {
   "cell_type": "code",
   "execution_count": 1,
   "metadata": {},
   "outputs": [],
   "source": [
    "import pandas as pd"
   ]
  },
  {
   "cell_type": "markdown",
   "metadata": {},
   "source": [
    "#### Pulling S&P 500 stock market index"
   ]
  },
  {
   "cell_type": "code",
   "execution_count": 2,
   "metadata": {},
   "outputs": [
    {
     "data": {
      "text/html": [
       "<div>\n",
       "<style scoped>\n",
       "    .dataframe tbody tr th:only-of-type {\n",
       "        vertical-align: middle;\n",
       "    }\n",
       "\n",
       "    .dataframe tbody tr th {\n",
       "        vertical-align: top;\n",
       "    }\n",
       "\n",
       "    .dataframe thead th {\n",
       "        text-align: right;\n",
       "    }\n",
       "</style>\n",
       "<table border=\"1\" class=\"dataframe\">\n",
       "  <thead>\n",
       "    <tr style=\"text-align: right;\">\n",
       "      <th></th>\n",
       "      <th>Year</th>\n",
       "      <th>Disaster</th>\n",
       "      <th>Death toll</th>\n",
       "      <th>Damage cost</th>\n",
       "      <th>Main article</th>\n",
       "      <th>Location</th>\n",
       "      <th>Notes</th>\n",
       "    </tr>\n",
       "  </thead>\n",
       "  <tbody>\n",
       "    <tr>\n",
       "      <th>0</th>\n",
       "      <td>2018</td>\n",
       "      <td>Wildfire</td>\n",
       "      <td>88</td>\n",
       "      <td>$16,500,000,000</td>\n",
       "      <td>Camp Fire</td>\n",
       "      <td>California</td>\n",
       "      <td>The Camp Fire ravaged North California, destro...</td>\n",
       "    </tr>\n",
       "    <tr>\n",
       "      <th>1</th>\n",
       "      <td>2017</td>\n",
       "      <td>Hurricane</td>\n",
       "      <td>5740</td>\n",
       "      <td>$91,610,000,000</td>\n",
       "      <td>Hurricane Maria</td>\n",
       "      <td>Florida and Puerto Rico</td>\n",
       "      <td>After strengthening at a near record pace and ...</td>\n",
       "    </tr>\n",
       "    <tr>\n",
       "      <th>2</th>\n",
       "      <td>2017</td>\n",
       "      <td>Hurricane</td>\n",
       "      <td>134</td>\n",
       "      <td>$64,760,000,000</td>\n",
       "      <td>Hurricane Irma</td>\n",
       "      <td>Florida, South Carolina, Georgia, Puerto Rico</td>\n",
       "      <td>Hurricane Irma ravaged the northern Leeward Is...</td>\n",
       "    </tr>\n",
       "    <tr>\n",
       "      <th>3</th>\n",
       "      <td>2017</td>\n",
       "      <td>Hurricane</td>\n",
       "      <td>107</td>\n",
       "      <td>$125,000,000,000</td>\n",
       "      <td>Hurricane Harvey</td>\n",
       "      <td>Texas, Louisiana, Alabama</td>\n",
       "      <td>Hurricane Harvey began as a tropical storm in ...</td>\n",
       "    </tr>\n",
       "    <tr>\n",
       "      <th>4</th>\n",
       "      <td>2016</td>\n",
       "      <td>Wildfire</td>\n",
       "      <td>14</td>\n",
       "      <td>$990,000,000</td>\n",
       "      <td>2016 Great Smoky Mountains wildfires</td>\n",
       "      <td>Tennessee</td>\n",
       "      <td>Destroyed nearly 2,000 structures; burned near...</td>\n",
       "    </tr>\n",
       "  </tbody>\n",
       "</table>\n",
       "</div>"
      ],
      "text/plain": [
       "   Year   Disaster Death toll       Damage cost  \\\n",
       "0  2018   Wildfire         88   $16,500,000,000   \n",
       "1  2017  Hurricane       5740   $91,610,000,000   \n",
       "2  2017  Hurricane        134   $64,760,000,000   \n",
       "3  2017  Hurricane        107  $125,000,000,000   \n",
       "4  2016   Wildfire         14      $990,000,000   \n",
       "\n",
       "                           Main article  \\\n",
       "0                             Camp Fire   \n",
       "1                       Hurricane Maria   \n",
       "2                        Hurricane Irma   \n",
       "3                      Hurricane Harvey   \n",
       "4  2016 Great Smoky Mountains wildfires   \n",
       "\n",
       "                                        Location  \\\n",
       "0                                     California   \n",
       "1                        Florida and Puerto Rico   \n",
       "2  Florida, South Carolina, Georgia, Puerto Rico   \n",
       "3                      Texas, Louisiana, Alabama   \n",
       "4                                      Tennessee   \n",
       "\n",
       "                                               Notes  \n",
       "0  The Camp Fire ravaged North California, destro...  \n",
       "1  After strengthening at a near record pace and ...  \n",
       "2  Hurricane Irma ravaged the northern Leeward Is...  \n",
       "3  Hurricane Harvey began as a tropical storm in ...  \n",
       "4  Destroyed nearly 2,000 structures; burned near...  "
      ]
     },
     "execution_count": 2,
     "metadata": {},
     "output_type": "execute_result"
    }
   ],
   "source": [
    "# Visit mars nasa\n",
    "url = \"https://en.wikipedia.org/wiki/List_of_natural_disasters_in_the_United_States\"\n",
    "# Use pandas to scrape tables within the url\n",
    "tables = pd.read_html(url)\n",
    "# Grab the first DF of Mars Facts\n",
    "df = tables[3]\n",
    "df.head()"
   ]
  },
  {
   "cell_type": "markdown",
   "metadata": {},
   "source": [
    "#### Add zero to disaster cost and 'not available' for notes, death toll, and main article"
   ]
  },
  {
   "cell_type": "code",
   "execution_count": 3,
   "metadata": {},
   "outputs": [
    {
     "data": {
      "text/html": [
       "<div>\n",
       "<style scoped>\n",
       "    .dataframe tbody tr th:only-of-type {\n",
       "        vertical-align: middle;\n",
       "    }\n",
       "\n",
       "    .dataframe tbody tr th {\n",
       "        vertical-align: top;\n",
       "    }\n",
       "\n",
       "    .dataframe thead th {\n",
       "        text-align: right;\n",
       "    }\n",
       "</style>\n",
       "<table border=\"1\" class=\"dataframe\">\n",
       "  <thead>\n",
       "    <tr style=\"text-align: right;\">\n",
       "      <th></th>\n",
       "      <th>Year</th>\n",
       "      <th>Disaster</th>\n",
       "      <th>Death toll</th>\n",
       "      <th>Damage cost</th>\n",
       "      <th>Main article</th>\n",
       "      <th>Location</th>\n",
       "      <th>Notes</th>\n",
       "    </tr>\n",
       "  </thead>\n",
       "  <tbody>\n",
       "    <tr>\n",
       "      <th>0</th>\n",
       "      <td>2018</td>\n",
       "      <td>Wildfire</td>\n",
       "      <td>88</td>\n",
       "      <td>$16,500,000,000</td>\n",
       "      <td>Camp Fire</td>\n",
       "      <td>California</td>\n",
       "      <td>The Camp Fire ravaged North California, destro...</td>\n",
       "    </tr>\n",
       "    <tr>\n",
       "      <th>1</th>\n",
       "      <td>2017</td>\n",
       "      <td>Hurricane</td>\n",
       "      <td>5740</td>\n",
       "      <td>$91,610,000,000</td>\n",
       "      <td>Hurricane Maria</td>\n",
       "      <td>Florida and Puerto Rico</td>\n",
       "      <td>After strengthening at a near record pace and ...</td>\n",
       "    </tr>\n",
       "    <tr>\n",
       "      <th>2</th>\n",
       "      <td>2017</td>\n",
       "      <td>Hurricane</td>\n",
       "      <td>134</td>\n",
       "      <td>$64,760,000,000</td>\n",
       "      <td>Hurricane Irma</td>\n",
       "      <td>Florida, South Carolina, Georgia, Puerto Rico</td>\n",
       "      <td>Hurricane Irma ravaged the northern Leeward Is...</td>\n",
       "    </tr>\n",
       "    <tr>\n",
       "      <th>3</th>\n",
       "      <td>2017</td>\n",
       "      <td>Hurricane</td>\n",
       "      <td>107</td>\n",
       "      <td>$125,000,000,000</td>\n",
       "      <td>Hurricane Harvey</td>\n",
       "      <td>Texas, Louisiana, Alabama</td>\n",
       "      <td>Hurricane Harvey began as a tropical storm in ...</td>\n",
       "    </tr>\n",
       "    <tr>\n",
       "      <th>4</th>\n",
       "      <td>2016</td>\n",
       "      <td>Wildfire</td>\n",
       "      <td>14</td>\n",
       "      <td>$990,000,000</td>\n",
       "      <td>2016 Great Smoky Mountains wildfires</td>\n",
       "      <td>Tennessee</td>\n",
       "      <td>Destroyed nearly 2,000 structures; burned near...</td>\n",
       "    </tr>\n",
       "    <tr>\n",
       "      <th>...</th>\n",
       "      <td>...</td>\n",
       "      <td>...</td>\n",
       "      <td>...</td>\n",
       "      <td>...</td>\n",
       "      <td>...</td>\n",
       "      <td>...</td>\n",
       "      <td>...</td>\n",
       "    </tr>\n",
       "    <tr>\n",
       "      <th>98</th>\n",
       "      <td>1888</td>\n",
       "      <td>Blizzard</td>\n",
       "      <td>400</td>\n",
       "      <td>0</td>\n",
       "      <td>Great Blizzard of 1888</td>\n",
       "      <td>Northeast</td>\n",
       "      <td>Fatalities estimated</td>\n",
       "    </tr>\n",
       "    <tr>\n",
       "      <th>99</th>\n",
       "      <td>1888</td>\n",
       "      <td>Cold wave</td>\n",
       "      <td>Unknown</td>\n",
       "      <td>0</td>\n",
       "      <td>1888 Northwest Cold Wave</td>\n",
       "      <td>Northwest</td>\n",
       "      <td>Not Available</td>\n",
       "    </tr>\n",
       "    <tr>\n",
       "      <th>100</th>\n",
       "      <td>1871</td>\n",
       "      <td>Wildfire</td>\n",
       "      <td>1,500–2,500</td>\n",
       "      <td>0</td>\n",
       "      <td>Peshtigo fire</td>\n",
       "      <td>Wisconsin</td>\n",
       "      <td>Deadliest firestorm in United States history</td>\n",
       "    </tr>\n",
       "    <tr>\n",
       "      <th>101</th>\n",
       "      <td>1862</td>\n",
       "      <td>Flood</td>\n",
       "      <td>Not Available</td>\n",
       "      <td>0</td>\n",
       "      <td>Great Flood of 1862</td>\n",
       "      <td>California, Oregon, Utah, and the territories ...</td>\n",
       "      <td>An atmospheric river led to 43 days of rain st...</td>\n",
       "    </tr>\n",
       "    <tr>\n",
       "      <th>102</th>\n",
       "      <td>1816</td>\n",
       "      <td>Famine (caused by volcano)</td>\n",
       "      <td>Unknown</td>\n",
       "      <td>0</td>\n",
       "      <td>Year Without a Summer</td>\n",
       "      <td>NaN</td>\n",
       "      <td>Volcanic dust from a massive eruption by Mount...</td>\n",
       "    </tr>\n",
       "  </tbody>\n",
       "</table>\n",
       "<p>103 rows × 7 columns</p>\n",
       "</div>"
      ],
      "text/plain": [
       "     Year                    Disaster     Death toll       Damage cost  \\\n",
       "0    2018                    Wildfire             88   $16,500,000,000   \n",
       "1    2017                   Hurricane           5740   $91,610,000,000   \n",
       "2    2017                   Hurricane            134   $64,760,000,000   \n",
       "3    2017                   Hurricane            107  $125,000,000,000   \n",
       "4    2016                    Wildfire             14      $990,000,000   \n",
       "..    ...                         ...            ...               ...   \n",
       "98   1888                    Blizzard            400                 0   \n",
       "99   1888                   Cold wave        Unknown                 0   \n",
       "100  1871                    Wildfire    1,500–2,500                 0   \n",
       "101  1862                       Flood  Not Available                 0   \n",
       "102  1816  Famine (caused by volcano)        Unknown                 0   \n",
       "\n",
       "                             Main article  \\\n",
       "0                               Camp Fire   \n",
       "1                         Hurricane Maria   \n",
       "2                          Hurricane Irma   \n",
       "3                        Hurricane Harvey   \n",
       "4    2016 Great Smoky Mountains wildfires   \n",
       "..                                    ...   \n",
       "98                 Great Blizzard of 1888   \n",
       "99               1888 Northwest Cold Wave   \n",
       "100                         Peshtigo fire   \n",
       "101                   Great Flood of 1862   \n",
       "102                 Year Without a Summer   \n",
       "\n",
       "                                              Location  \\\n",
       "0                                           California   \n",
       "1                              Florida and Puerto Rico   \n",
       "2        Florida, South Carolina, Georgia, Puerto Rico   \n",
       "3                            Texas, Louisiana, Alabama   \n",
       "4                                            Tennessee   \n",
       "..                                                 ...   \n",
       "98                                           Northeast   \n",
       "99                                           Northwest   \n",
       "100                                          Wisconsin   \n",
       "101  California, Oregon, Utah, and the territories ...   \n",
       "102                                                NaN   \n",
       "\n",
       "                                                 Notes  \n",
       "0    The Camp Fire ravaged North California, destro...  \n",
       "1    After strengthening at a near record pace and ...  \n",
       "2    Hurricane Irma ravaged the northern Leeward Is...  \n",
       "3    Hurricane Harvey began as a tropical storm in ...  \n",
       "4    Destroyed nearly 2,000 structures; burned near...  \n",
       "..                                                 ...  \n",
       "98                                Fatalities estimated  \n",
       "99                                       Not Available  \n",
       "100       Deadliest firestorm in United States history  \n",
       "101  An atmospheric river led to 43 days of rain st...  \n",
       "102  Volcanic dust from a massive eruption by Mount...  \n",
       "\n",
       "[103 rows x 7 columns]"
      ]
     },
     "execution_count": 3,
     "metadata": {},
     "output_type": "execute_result"
    }
   ],
   "source": [
    "df['Death toll'] = df['Death toll'].fillna('Not Available')\n",
    "df['Damage cost'] = df['Damage cost'].fillna('0')\n",
    "df['Main article'] = df['Main article'].fillna('Not Available')\n",
    "df['Notes'] = df['Notes'].fillna('Not Available')\n",
    "df"
   ]
  },
  {
   "cell_type": "markdown",
   "metadata": {},
   "source": [
    "#### length of dataset"
   ]
  },
  {
   "cell_type": "code",
   "execution_count": 4,
   "metadata": {},
   "outputs": [
    {
     "data": {
      "text/plain": [
       "Year            103\n",
       "Disaster        103\n",
       "Death toll      103\n",
       "Damage cost     103\n",
       "Main article    103\n",
       "Location        100\n",
       "Notes           103\n",
       "dtype: int64"
      ]
     },
     "execution_count": 4,
     "metadata": {},
     "output_type": "execute_result"
    }
   ],
   "source": [
    "df.count()"
   ]
  },
  {
   "cell_type": "markdown",
   "metadata": {},
   "source": [
    "#### Dropping any rows that are missing "
   ]
  },
  {
   "cell_type": "code",
   "execution_count": 5,
   "metadata": {},
   "outputs": [
    {
     "data": {
      "text/plain": [
       "Year            100\n",
       "Disaster        100\n",
       "Death toll      100\n",
       "Damage cost     100\n",
       "Main article    100\n",
       "Location        100\n",
       "Notes           100\n",
       "dtype: int64"
      ]
     },
     "execution_count": 5,
     "metadata": {},
     "output_type": "execute_result"
    }
   ],
   "source": [
    "df = df.dropna()\n",
    "df.count()"
   ]
  },
  {
   "cell_type": "markdown",
   "metadata": {},
   "source": [
    "#### Looking at columns"
   ]
  },
  {
   "cell_type": "code",
   "execution_count": 6,
   "metadata": {},
   "outputs": [
    {
     "data": {
      "text/plain": [
       "Index(['Year', 'Disaster', 'Death toll', 'Damage cost', 'Main article',\n",
       "       'Location', 'Notes'],\n",
       "      dtype='object')"
      ]
     },
     "execution_count": 6,
     "metadata": {},
     "output_type": "execute_result"
    }
   ],
   "source": [
    "df.columns"
   ]
  },
  {
   "cell_type": "markdown",
   "metadata": {},
   "source": [
    "#### Filter out row year that gives an error when trying to convert column year to datetime"
   ]
  },
  {
   "cell_type": "code",
   "execution_count": 7,
   "metadata": {},
   "outputs": [
    {
     "data": {
      "text/plain": [
       "Year            97\n",
       "Disaster        97\n",
       "Death toll      97\n",
       "Damage cost     97\n",
       "Main article    97\n",
       "Location        97\n",
       "Notes           97\n",
       "dtype: int64"
      ]
     },
     "execution_count": 7,
     "metadata": {},
     "output_type": "execute_result"
    }
   ],
   "source": [
    "df = df[~df['Year'].str.contains('–')]\n",
    "df.count()"
   ]
  },
  {
   "cell_type": "markdown",
   "metadata": {},
   "source": [
    "#### Checking data types"
   ]
  },
  {
   "cell_type": "code",
   "execution_count": 8,
   "metadata": {},
   "outputs": [
    {
     "data": {
      "text/plain": [
       "Year            object\n",
       "Disaster        object\n",
       "Death toll      object\n",
       "Damage cost     object\n",
       "Main article    object\n",
       "Location        object\n",
       "Notes           object\n",
       "dtype: object"
      ]
     },
     "execution_count": 8,
     "metadata": {},
     "output_type": "execute_result"
    }
   ],
   "source": [
    "df.dtypes"
   ]
  },
  {
   "cell_type": "markdown",
   "metadata": {},
   "source": [
    "#### Convert column dt to datetime"
   ]
  },
  {
   "cell_type": "code",
   "execution_count": 9,
   "metadata": {},
   "outputs": [
    {
     "data": {
      "text/plain": [
       "Year            datetime64[ns]\n",
       "Disaster                object\n",
       "Death toll              object\n",
       "Damage cost             object\n",
       "Main article            object\n",
       "Location                object\n",
       "Notes                   object\n",
       "dtype: object"
      ]
     },
     "execution_count": 9,
     "metadata": {},
     "output_type": "execute_result"
    }
   ],
   "source": [
    "df['Year'] = pd.to_datetime(df['Year'])\n",
    "df.dtypes"
   ]
  },
  {
   "cell_type": "markdown",
   "metadata": {},
   "source": [
    "#### Extract year only"
   ]
  },
  {
   "cell_type": "code",
   "execution_count": 10,
   "metadata": {},
   "outputs": [
    {
     "data": {
      "text/html": [
       "<div>\n",
       "<style scoped>\n",
       "    .dataframe tbody tr th:only-of-type {\n",
       "        vertical-align: middle;\n",
       "    }\n",
       "\n",
       "    .dataframe tbody tr th {\n",
       "        vertical-align: top;\n",
       "    }\n",
       "\n",
       "    .dataframe thead th {\n",
       "        text-align: right;\n",
       "    }\n",
       "</style>\n",
       "<table border=\"1\" class=\"dataframe\">\n",
       "  <thead>\n",
       "    <tr style=\"text-align: right;\">\n",
       "      <th></th>\n",
       "      <th>Year</th>\n",
       "      <th>Disaster</th>\n",
       "      <th>Death toll</th>\n",
       "      <th>Damage cost</th>\n",
       "      <th>Main article</th>\n",
       "      <th>Location</th>\n",
       "      <th>Notes</th>\n",
       "    </tr>\n",
       "  </thead>\n",
       "  <tbody>\n",
       "    <tr>\n",
       "      <th>0</th>\n",
       "      <td>2018</td>\n",
       "      <td>Wildfire</td>\n",
       "      <td>88</td>\n",
       "      <td>$16,500,000,000</td>\n",
       "      <td>Camp Fire</td>\n",
       "      <td>California</td>\n",
       "      <td>The Camp Fire ravaged North California, destro...</td>\n",
       "    </tr>\n",
       "    <tr>\n",
       "      <th>1</th>\n",
       "      <td>2017</td>\n",
       "      <td>Hurricane</td>\n",
       "      <td>5740</td>\n",
       "      <td>$91,610,000,000</td>\n",
       "      <td>Hurricane Maria</td>\n",
       "      <td>Florida and Puerto Rico</td>\n",
       "      <td>After strengthening at a near record pace and ...</td>\n",
       "    </tr>\n",
       "    <tr>\n",
       "      <th>2</th>\n",
       "      <td>2017</td>\n",
       "      <td>Hurricane</td>\n",
       "      <td>134</td>\n",
       "      <td>$64,760,000,000</td>\n",
       "      <td>Hurricane Irma</td>\n",
       "      <td>Florida, South Carolina, Georgia, Puerto Rico</td>\n",
       "      <td>Hurricane Irma ravaged the northern Leeward Is...</td>\n",
       "    </tr>\n",
       "    <tr>\n",
       "      <th>3</th>\n",
       "      <td>2017</td>\n",
       "      <td>Hurricane</td>\n",
       "      <td>107</td>\n",
       "      <td>$125,000,000,000</td>\n",
       "      <td>Hurricane Harvey</td>\n",
       "      <td>Texas, Louisiana, Alabama</td>\n",
       "      <td>Hurricane Harvey began as a tropical storm in ...</td>\n",
       "    </tr>\n",
       "    <tr>\n",
       "      <th>4</th>\n",
       "      <td>2016</td>\n",
       "      <td>Wildfire</td>\n",
       "      <td>14</td>\n",
       "      <td>$990,000,000</td>\n",
       "      <td>2016 Great Smoky Mountains wildfires</td>\n",
       "      <td>Tennessee</td>\n",
       "      <td>Destroyed nearly 2,000 structures; burned near...</td>\n",
       "    </tr>\n",
       "  </tbody>\n",
       "</table>\n",
       "</div>"
      ],
      "text/plain": [
       "   Year   Disaster Death toll       Damage cost  \\\n",
       "0  2018   Wildfire         88   $16,500,000,000   \n",
       "1  2017  Hurricane       5740   $91,610,000,000   \n",
       "2  2017  Hurricane        134   $64,760,000,000   \n",
       "3  2017  Hurricane        107  $125,000,000,000   \n",
       "4  2016   Wildfire         14      $990,000,000   \n",
       "\n",
       "                           Main article  \\\n",
       "0                             Camp Fire   \n",
       "1                       Hurricane Maria   \n",
       "2                        Hurricane Irma   \n",
       "3                      Hurricane Harvey   \n",
       "4  2016 Great Smoky Mountains wildfires   \n",
       "\n",
       "                                        Location  \\\n",
       "0                                     California   \n",
       "1                        Florida and Puerto Rico   \n",
       "2  Florida, South Carolina, Georgia, Puerto Rico   \n",
       "3                      Texas, Louisiana, Alabama   \n",
       "4                                      Tennessee   \n",
       "\n",
       "                                               Notes  \n",
       "0  The Camp Fire ravaged North California, destro...  \n",
       "1  After strengthening at a near record pace and ...  \n",
       "2  Hurricane Irma ravaged the northern Leeward Is...  \n",
       "3  Hurricane Harvey began as a tropical storm in ...  \n",
       "4  Destroyed nearly 2,000 structures; burned near...  "
      ]
     },
     "execution_count": 10,
     "metadata": {},
     "output_type": "execute_result"
    }
   ],
   "source": [
    "df['Year'] = df['Year'].dt.year\n",
    "df.head()"
   ]
  },
  {
   "cell_type": "markdown",
   "metadata": {},
   "source": [
    "#### lowercase/rename columns"
   ]
  },
  {
   "cell_type": "code",
   "execution_count": 11,
   "metadata": {},
   "outputs": [
    {
     "data": {
      "text/html": [
       "<div>\n",
       "<style scoped>\n",
       "    .dataframe tbody tr th:only-of-type {\n",
       "        vertical-align: middle;\n",
       "    }\n",
       "\n",
       "    .dataframe tbody tr th {\n",
       "        vertical-align: top;\n",
       "    }\n",
       "\n",
       "    .dataframe thead th {\n",
       "        text-align: right;\n",
       "    }\n",
       "</style>\n",
       "<table border=\"1\" class=\"dataframe\">\n",
       "  <thead>\n",
       "    <tr style=\"text-align: right;\">\n",
       "      <th></th>\n",
       "      <th>year</th>\n",
       "      <th>disaster</th>\n",
       "      <th>death_toll</th>\n",
       "      <th>damage_cost</th>\n",
       "      <th>main_article</th>\n",
       "      <th>location</th>\n",
       "      <th>notes</th>\n",
       "    </tr>\n",
       "  </thead>\n",
       "  <tbody>\n",
       "    <tr>\n",
       "      <th>0</th>\n",
       "      <td>2018</td>\n",
       "      <td>Wildfire</td>\n",
       "      <td>88</td>\n",
       "      <td>$16,500,000,000</td>\n",
       "      <td>Camp Fire</td>\n",
       "      <td>California</td>\n",
       "      <td>The Camp Fire ravaged North California, destro...</td>\n",
       "    </tr>\n",
       "    <tr>\n",
       "      <th>1</th>\n",
       "      <td>2017</td>\n",
       "      <td>Hurricane</td>\n",
       "      <td>5740</td>\n",
       "      <td>$91,610,000,000</td>\n",
       "      <td>Hurricane Maria</td>\n",
       "      <td>Florida and Puerto Rico</td>\n",
       "      <td>After strengthening at a near record pace and ...</td>\n",
       "    </tr>\n",
       "    <tr>\n",
       "      <th>2</th>\n",
       "      <td>2017</td>\n",
       "      <td>Hurricane</td>\n",
       "      <td>134</td>\n",
       "      <td>$64,760,000,000</td>\n",
       "      <td>Hurricane Irma</td>\n",
       "      <td>Florida, South Carolina, Georgia, Puerto Rico</td>\n",
       "      <td>Hurricane Irma ravaged the northern Leeward Is...</td>\n",
       "    </tr>\n",
       "    <tr>\n",
       "      <th>3</th>\n",
       "      <td>2017</td>\n",
       "      <td>Hurricane</td>\n",
       "      <td>107</td>\n",
       "      <td>$125,000,000,000</td>\n",
       "      <td>Hurricane Harvey</td>\n",
       "      <td>Texas, Louisiana, Alabama</td>\n",
       "      <td>Hurricane Harvey began as a tropical storm in ...</td>\n",
       "    </tr>\n",
       "    <tr>\n",
       "      <th>4</th>\n",
       "      <td>2016</td>\n",
       "      <td>Wildfire</td>\n",
       "      <td>14</td>\n",
       "      <td>$990,000,000</td>\n",
       "      <td>2016 Great Smoky Mountains wildfires</td>\n",
       "      <td>Tennessee</td>\n",
       "      <td>Destroyed nearly 2,000 structures; burned near...</td>\n",
       "    </tr>\n",
       "  </tbody>\n",
       "</table>\n",
       "</div>"
      ],
      "text/plain": [
       "   year   disaster death_toll       damage_cost  \\\n",
       "0  2018   Wildfire         88   $16,500,000,000   \n",
       "1  2017  Hurricane       5740   $91,610,000,000   \n",
       "2  2017  Hurricane        134   $64,760,000,000   \n",
       "3  2017  Hurricane        107  $125,000,000,000   \n",
       "4  2016   Wildfire         14      $990,000,000   \n",
       "\n",
       "                           main_article  \\\n",
       "0                             Camp Fire   \n",
       "1                       Hurricane Maria   \n",
       "2                        Hurricane Irma   \n",
       "3                      Hurricane Harvey   \n",
       "4  2016 Great Smoky Mountains wildfires   \n",
       "\n",
       "                                        location  \\\n",
       "0                                     California   \n",
       "1                        Florida and Puerto Rico   \n",
       "2  Florida, South Carolina, Georgia, Puerto Rico   \n",
       "3                      Texas, Louisiana, Alabama   \n",
       "4                                      Tennessee   \n",
       "\n",
       "                                               notes  \n",
       "0  The Camp Fire ravaged North California, destro...  \n",
       "1  After strengthening at a near record pace and ...  \n",
       "2  Hurricane Irma ravaged the northern Leeward Is...  \n",
       "3  Hurricane Harvey began as a tropical storm in ...  \n",
       "4  Destroyed nearly 2,000 structures; burned near...  "
      ]
     },
     "execution_count": 11,
     "metadata": {},
     "output_type": "execute_result"
    }
   ],
   "source": [
    "df = df.rename(columns={'Year':'year','Disaster':'disaster','Death toll':'death_toll','Damage cost':'damage_cost','Main article':'main_article','Location':'location','Notes':'notes'})\n",
    "df.head()"
   ]
  },
  {
   "cell_type": "markdown",
   "metadata": {},
   "source": [
    "#### Sort descending order"
   ]
  },
  {
   "cell_type": "code",
   "execution_count": 12,
   "metadata": {},
   "outputs": [
    {
     "data": {
      "text/html": [
       "<div>\n",
       "<style scoped>\n",
       "    .dataframe tbody tr th:only-of-type {\n",
       "        vertical-align: middle;\n",
       "    }\n",
       "\n",
       "    .dataframe tbody tr th {\n",
       "        vertical-align: top;\n",
       "    }\n",
       "\n",
       "    .dataframe thead th {\n",
       "        text-align: right;\n",
       "    }\n",
       "</style>\n",
       "<table border=\"1\" class=\"dataframe\">\n",
       "  <thead>\n",
       "    <tr style=\"text-align: right;\">\n",
       "      <th></th>\n",
       "      <th>year</th>\n",
       "      <th>disaster</th>\n",
       "      <th>death_toll</th>\n",
       "      <th>damage_cost</th>\n",
       "      <th>main_article</th>\n",
       "      <th>location</th>\n",
       "      <th>notes</th>\n",
       "    </tr>\n",
       "  </thead>\n",
       "  <tbody>\n",
       "    <tr>\n",
       "      <th>0</th>\n",
       "      <td>1862</td>\n",
       "      <td>Flood</td>\n",
       "      <td>Not Available</td>\n",
       "      <td>0</td>\n",
       "      <td>Great Flood of 1862</td>\n",
       "      <td>California, Oregon, Utah, and the territories ...</td>\n",
       "      <td>An atmospheric river led to 43 days of rain st...</td>\n",
       "    </tr>\n",
       "    <tr>\n",
       "      <th>1</th>\n",
       "      <td>1871</td>\n",
       "      <td>Wildfire</td>\n",
       "      <td>1,500–2,500</td>\n",
       "      <td>0</td>\n",
       "      <td>Peshtigo fire</td>\n",
       "      <td>Wisconsin</td>\n",
       "      <td>Deadliest firestorm in United States history</td>\n",
       "    </tr>\n",
       "    <tr>\n",
       "      <th>2</th>\n",
       "      <td>1888</td>\n",
       "      <td>Blizzard</td>\n",
       "      <td>400</td>\n",
       "      <td>0</td>\n",
       "      <td>Great Blizzard of 1888</td>\n",
       "      <td>Northeast</td>\n",
       "      <td>Fatalities estimated</td>\n",
       "    </tr>\n",
       "    <tr>\n",
       "      <th>3</th>\n",
       "      <td>1888</td>\n",
       "      <td>Cold wave</td>\n",
       "      <td>Unknown</td>\n",
       "      <td>0</td>\n",
       "      <td>1888 Northwest Cold Wave</td>\n",
       "      <td>Northwest</td>\n",
       "      <td>Not Available</td>\n",
       "    </tr>\n",
       "    <tr>\n",
       "      <th>4</th>\n",
       "      <td>1889</td>\n",
       "      <td>Flood</td>\n",
       "      <td>2209</td>\n",
       "      <td>$17 Million ($425 Million in 2012 dollars)</td>\n",
       "      <td>Johnstown Flood</td>\n",
       "      <td>Johnstown, Pennsylvania</td>\n",
       "      <td>A dam failure caused 20 million tons of water ...</td>\n",
       "    </tr>\n",
       "  </tbody>\n",
       "</table>\n",
       "</div>"
      ],
      "text/plain": [
       "   year   disaster     death_toll                                 damage_cost  \\\n",
       "0  1862      Flood  Not Available                                           0   \n",
       "1  1871   Wildfire    1,500–2,500                                           0   \n",
       "2  1888   Blizzard            400                                           0   \n",
       "3  1888  Cold wave        Unknown                                           0   \n",
       "4  1889      Flood           2209  $17 Million ($425 Million in 2012 dollars)   \n",
       "\n",
       "               main_article  \\\n",
       "0       Great Flood of 1862   \n",
       "1             Peshtigo fire   \n",
       "2    Great Blizzard of 1888   \n",
       "3  1888 Northwest Cold Wave   \n",
       "4           Johnstown Flood   \n",
       "\n",
       "                                            location  \\\n",
       "0  California, Oregon, Utah, and the territories ...   \n",
       "1                                          Wisconsin   \n",
       "2                                          Northeast   \n",
       "3                                          Northwest   \n",
       "4                            Johnstown, Pennsylvania   \n",
       "\n",
       "                                               notes  \n",
       "0  An atmospheric river led to 43 days of rain st...  \n",
       "1       Deadliest firestorm in United States history  \n",
       "2                               Fatalities estimated  \n",
       "3                                      Not Available  \n",
       "4  A dam failure caused 20 million tons of water ...  "
      ]
     },
     "execution_count": 12,
     "metadata": {},
     "output_type": "execute_result"
    }
   ],
   "source": [
    "df = df.sort_values('year',ascending=True).reset_index()\n",
    "df = df.drop(columns=['index'])\n",
    "df.head()"
   ]
  },
  {
   "cell_type": "markdown",
   "metadata": {},
   "source": [
    "#### Create a table for disaster"
   ]
  },
  {
   "cell_type": "code",
   "execution_count": 14,
   "metadata": {},
   "outputs": [
    {
     "data": {
      "text/html": [
       "<div>\n",
       "<style scoped>\n",
       "    .dataframe tbody tr th:only-of-type {\n",
       "        vertical-align: middle;\n",
       "    }\n",
       "\n",
       "    .dataframe tbody tr th {\n",
       "        vertical-align: top;\n",
       "    }\n",
       "\n",
       "    .dataframe thead th {\n",
       "        text-align: right;\n",
       "    }\n",
       "</style>\n",
       "<table border=\"1\" class=\"dataframe\">\n",
       "  <thead>\n",
       "    <tr style=\"text-align: right;\">\n",
       "      <th></th>\n",
       "      <th>disaster</th>\n",
       "    </tr>\n",
       "  </thead>\n",
       "  <tbody>\n",
       "    <tr>\n",
       "      <th>0</th>\n",
       "      <td>Flood</td>\n",
       "    </tr>\n",
       "    <tr>\n",
       "      <th>1</th>\n",
       "      <td>Wildfire</td>\n",
       "    </tr>\n",
       "    <tr>\n",
       "      <th>2</th>\n",
       "      <td>Blizzard</td>\n",
       "    </tr>\n",
       "    <tr>\n",
       "      <th>3</th>\n",
       "      <td>Cold wave</td>\n",
       "    </tr>\n",
       "    <tr>\n",
       "      <th>4</th>\n",
       "      <td>Hurricane</td>\n",
       "    </tr>\n",
       "  </tbody>\n",
       "</table>\n",
       "</div>"
      ],
      "text/plain": [
       "    disaster\n",
       "0      Flood\n",
       "1   Wildfire\n",
       "2   Blizzard\n",
       "3  Cold wave\n",
       "4  Hurricane"
      ]
     },
     "execution_count": 14,
     "metadata": {},
     "output_type": "execute_result"
    }
   ],
   "source": [
    "disaster_data = df['disaster'].unique()\n",
    "disaster_data\n",
    "disaster_df = pd.DataFrame(disaster_data,columns=['disaster'])\n",
    "disaster_df.head()"
   ]
  },
  {
   "cell_type": "markdown",
   "metadata": {},
   "source": [
    "#### Exporting to a csv file"
   ]
  },
  {
   "cell_type": "code",
   "execution_count": 15,
   "metadata": {},
   "outputs": [],
   "source": [
    "df.to_csv('../data_transformed/weather_damage.csv')\n",
    "disaster_df.to_csv('../data_transformed/disaster.csv')"
   ]
  },
  {
   "cell_type": "code",
   "execution_count": null,
   "metadata": {},
   "outputs": [],
   "source": []
  }
 ],
 "metadata": {
  "kernelspec": {
   "display_name": "Python 3",
   "language": "python",
   "name": "python3"
  },
  "language_info": {
   "codemirror_mode": {
    "name": "ipython",
    "version": 3
   },
   "file_extension": ".py",
   "mimetype": "text/x-python",
   "name": "python",
   "nbconvert_exporter": "python",
   "pygments_lexer": "ipython3",
   "version": "3.7.3"
  }
 },
 "nbformat": 4,
 "nbformat_minor": 4
}
